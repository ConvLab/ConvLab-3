{
  "cells": [
    {
      "cell_type": "markdown",
      "metadata": {
        "colab_type": "text",
        "id": "x3qZ8fi1FAWS"
      },
      "source": [
        "# Getting Started\n",
        "\n",
        "In this tutorial, you will know how to\n",
        "- use the models in **ConvLab-3** to build a dialog agent.\n",
        "- build a simulator to chat with the agent and evaluate the performance.\n",
        "- try different module combinations.\n",
        "- use analysis tool to diagnose your system.\n",
        "\n",
        "Let's get started!"
      ]
    },
    {
      "cell_type": "markdown",
      "metadata": {
        "colab_type": "text",
        "id": "NvXG3UyBFFS3"
      },
      "source": [
        "## Environment setup\n",
        "Run the command below to install ConvLab-3. Then restart the notebook and skip this commend."
      ]
    },
    {
      "cell_type": "code",
      "execution_count": null,
      "metadata": {
        "colab": {},
        "colab_type": "code",
        "id": "qPqTs6EP0wxO"
      },
      "outputs": [],
      "source": [
        "# first install ConvLab-3 and restart the notebook\n",
        "! git clone --depth 1 https://github.com/ConvLab/ConvLab-3.git && cd ConvLab-3 && pip install -e ."
      ]
    },
    {
      "cell_type": "code",
      "execution_count": null,
      "metadata": {},
      "outputs": [],
      "source": [
        "# first install ConvLab-3 and restart the notebook\n",
        "! git clone --depth 1 https://github.com/ConvLab/ConvLab-3.git && cd ConvLab-3 && pip install -e ."
      ]
    },
    {
      "cell_type": "markdown",
      "metadata": {
        "colab_type": "text",
        "id": "1TPEtcEpFiCU"
      },
      "source": [
        "## build an agent\n",
        "\n",
        "We use the models adapted on [Multiwoz](https://www.aclweb.org/anthology/D18-1547)  dataset to build our agent. This pipeline agent consists of NLU, DST, Policy and NLG modules.\n",
        "\n",
        "First, import some models:"
      ]
    },
    {
      "cell_type": "code",
      "execution_count": null,
      "metadata": {
        "colab": {},
        "colab_type": "code",
        "id": "OqzFlmCBCXEV"
      },
      "outputs": [],
      "source": [
        "# common import: convlab.$module.$model.$dataset\n",
        "from convlab.base_models.t5.nlu import T5NLU\n",
        "from convlab.base_models.t5.dst import T5DST\n",
        "from convlab.base_models.t5.nlg import T5NLG\n",
        "from convlab.policy.vector.vector_nodes import VectorNodes\n",
        "from convlab.policy.vtrace_DPT import VTRACE\n",
        "from convlab.dialog_agent import PipelineAgent, BiSession\n",
        "from convlab.evaluator.multiwoz_eval import MultiWozEvaluator\n",
        "from pprint import pprint\n",
        "import random\n",
        "import numpy as np\n",
        "import torch"
      ]
    },
    {
      "cell_type": "markdown",
      "metadata": {
        "colab_type": "text",
        "id": "N-18Q6YKGEzY"
      },
      "source": [
        "Then, create the models and build an agent on Multiwoz 2.1 dataset:"
      ]
    },
    {
      "cell_type": "code",
      "execution_count": null,
      "metadata": {
        "colab": {},
        "colab_type": "code",
        "id": "-GPQgUD6GjHv"
      },
      "outputs": [],
      "source": [
        "# go to README.md of each model for more information\n",
        "sys_nlu = T5NLU(speaker='user', context_window_size=0, model_name_or_path='ConvLab/t5-small-nlu-multiwoz21')\n",
        "sys_dst = T5DST(dataset_name='multiwoz21', speaker='user', context_window_size=100, model_name_or_path='ConvLab/t5-small-dst-multiwoz21')\n",
        "# Download pre-trained DDPT model\n",
        "! wget https://huggingface.co/ConvLab/ddpt-policy-multiwoz21/resolve/main/supervised.pol.mdl --directory-prefix=\"convlab/policy/vtrace_DPT\"\n",
        "vectorizer = VectorNodes(dataset_name='multiwoz21',\n",
        "                         use_masking=True,\n",
        "                         manually_add_entity_names=True,\n",
        "                         seed=0,\n",
        "                         filter_state=True)\n",
        "sys_policy = VTRACE(is_train=False,\n",
        "              seed=0,\n",
        "              vectorizer=vectorizer,\n",
        "              load_path=\"convlab/policy/vtrace_DPT/supervised\")\n",
        "sys_nlg = T5NLG(speaker='system', context_window_size=0, model_name_or_path='ConvLab/t5-small-nlg-multiwoz21')\n",
        "# assemble\n",
        "sys_agent = PipelineAgent(sys_nlu, sys_dst, sys_policy, sys_nlg, name='sys')"
      ]
    },
    {
      "cell_type": "markdown",
      "metadata": {
        "colab_type": "text",
        "id": "FvqIiO22H0Od"
      },
      "source": [
        "That's all! Let's chat with the agent using its response function:"
      ]
    },
    {
      "cell_type": "code",
      "execution_count": null,
      "metadata": {
        "colab": {},
        "colab_type": "code",
        "id": "9LYnDLysH1nX"
      },
      "outputs": [],
      "source": [
        "sys_agent.response(\"I want to find a moderate hotel\")"
      ]
    },
    {
      "cell_type": "code",
      "execution_count": null,
      "metadata": {
        "colab": {},
        "colab_type": "code",
        "id": "dAvi-IzsH474"
      },
      "outputs": [],
      "source": [
        "sys_agent.response(\"Which type of hotel is it ?\")"
      ]
    },
    {
      "cell_type": "code",
      "execution_count": null,
      "metadata": {
        "colab": {},
        "colab_type": "code",
        "id": "f0A6Pt4tH60c"
      },
      "outputs": [],
      "source": [
        "sys_agent.response(\"OK , where is its address ?\")"
      ]
    },
    {
      "cell_type": "code",
      "execution_count": null,
      "metadata": {
        "colab": {},
        "colab_type": "code",
        "id": "8VH6yO6PH8Ua"
      },
      "outputs": [],
      "source": [
        "sys_agent.response(\"Thank you !\")"
      ]
    },
    {
      "cell_type": "code",
      "execution_count": null,
      "metadata": {
        "colab": {},
        "colab_type": "code",
        "id": "wto-PxgNH9gp"
      },
      "outputs": [],
      "source": [
        "sys_agent.response(\"Try to find me a Chinese restaurant in south area .\")"
      ]
    },
    {
      "cell_type": "code",
      "execution_count": null,
      "metadata": {
        "colab": {},
        "colab_type": "code",
        "id": "MJ9C1ZhbH_JY"
      },
      "outputs": [],
      "source": [
        "sys_agent.response(\"Which kind of food it provides ?\")"
      ]
    },
    {
      "cell_type": "code",
      "execution_count": null,
      "metadata": {
        "colab": {},
        "colab_type": "code",
        "id": "DpaQNA_HIAmT"
      },
      "outputs": [],
      "source": [
        "sys_agent.response(\"Book a table for 5 , this Sunday .\")"
      ]
    },
    {
      "cell_type": "markdown",
      "metadata": {
        "colab_type": "text",
        "id": "n6uuuRonIHvW"
      },
      "outputs": [],
      "source": [
        "sys_agent.response(\"Which type of hotel is it ?\")"
      ]
    },
    {
      "cell_type": "code",
      "execution_count": null,
      "metadata": {
        "colab": {},
        "colab_type": "code",
        "id": "pAMAJZSF7D5w"
      },
      "outputs": [],
      "source": [
        "# MILU\n",
        "user_nlu = MILU()\n",
        "# not use dst\n",
        "user_dst = None\n",
        "# rule policy\n",
        "user_policy = RulePolicy(character='usr')\n",
        "# template NLG\n",
        "user_nlg = TemplateNLG(is_user=True)\n",
        "# assemble\n",
        "user_agent = PipelineAgent(user_nlu, user_dst, user_policy, user_nlg, name='user')"
      ]
    },
    {
      "cell_type": "markdown",
      "metadata": {
        "colab_type": "text",
        "id": "Rghl-V2AJhRY"
      },
      "source": [
        "\n",
        "Now we have a simulator and an agent. we will use an existed simple one-to-one conversation controller BiSession, you can also define your own Session class for your special need.\n",
        "\n",
        "We add `MultiWozEvaluator` to evaluate the performance. It uses the parsed dialog act input and policy output dialog act to calculate **inform f1**, **book rate**, and whether the task is **success**."
      ]
    },
    {
      "cell_type": "code",
      "execution_count": null,
      "metadata": {
        "colab": {},
        "colab_type": "code",
        "id": "saUoLUUGJqDa"
      },
      "outputs": [],
      "source": [
        "evaluator = MultiWozEvaluator()\n",
        "sess = BiSession(sys_agent=sys_agent, user_agent=user_agent, kb_query=None, evaluator=evaluator)"
      ]
    },
    {
      "cell_type": "markdown",
      "metadata": {
        "colab_type": "text",
        "id": "kevGJZhFJzTU"
      },
      "outputs": [],
      "source": [
        "sys_agent.response(\"OK , where is its address ?\")"
      ]
    },
    {
      "cell_type": "code",
      "execution_count": null,
      "metadata": {
        "colab": {},
        "colab_type": "code",
        "id": "FIV_qkE49LzE"
      },
      "outputs": [],
      "source": [
        "def set_seed(r_seed):\n",
        "    random.seed(r_seed)\n",
        "    np.random.seed(r_seed)\n",
        "    torch.manual_seed(r_seed)\n",
        "\n",
        "set_seed(20200131)\n",
        "\n",
        "sys_response = ''\n",
        "sess.init_session()\n",
        "print('init goal:')\n",
        "pprint(sess.evaluator.goal)\n",
        "print('-'*50)\n",
        "for i in range(20):\n",
        "    sys_response, user_response, session_over, reward = sess.next_turn(sys_response)\n",
        "    print('user:', user_response)\n",
        "    print('sys:', sys_response)\n",
        "    print()\n",
        "    if session_over is True:\n",
        "        break\n",
        "print('task success:', sess.evaluator.task_success())\n",
        "print('book rate:', sess.evaluator.book_rate())\n",
        "print('inform precision/recall/f1:', sess.evaluator.inform_F1())\n",
        "print('-'*50)\n",
        "print('final goal:')\n",
        "pprint(sess.evaluator.goal)\n",
        "print('='*100)"
      ]
    },
    {
      "cell_type": "markdown",
      "metadata": {
        "colab_type": "text",
        "id": "CKOQs1l8LpTR"
      },
      "source": [
        "## Try different module combinations\n",
        "\n",
        "The combination modes of pipeline agent modules are flexible. We support joint models such as TRADE, SUMBT for word-DST and MDRG, HDSA, LaRL for word-Policy, once the input and output are matched with previous and next module. We also support End2End models such as Sequicity.\n",
        "\n",
        "Available models:\n",
        "\n",
        "- NLU: BERTNLU, MILU, SVMNLU\n",
        "- DST: RuleDST\n",
        "- Word-DST: SUMBT, TRADE (set `sys_nlu` to `None`)\n",
        "- Policy: RulePolicy, Imitation, REINFORCE, PPO, GDPL\n",
        "- Word-Policy: MDRG, HDSA, LaRL (set `sys_nlg` to `None`)\n",
        "- NLG: Template, SCLSTM\n",
        "- End2End: Sequicity, DAMD, RNN_rollout (directly used as `sys_agent`)\n",
        "- Simulator policy: Agenda, VHUS (for `user_policy`)\n"
      ]
    },
    {
      "cell_type": "code",
      "execution_count": null,
      "metadata": {
        "colab": {},
        "colab_type": "code",
        "id": "G-9G0VYUNYOI"
      },
      "outputs": [],
      "source": [
        "# available NLU models\n",
        "from convlab.nlu.svm.multiwoz import SVMNLU\n",
        "from convlab.nlu.jointBERT.multiwoz import BERTNLU\n",
        "from convlab.nlu.milu.multiwoz import MILU\n",
        "# available DST models\n",
        "from convlab.dst.rule.multiwoz import RuleDST\n",
        "from convlab.dst.sumbt.multiwoz import SUMBT\n",
        "from convlab.dst.trade.multiwoz import TRADE\n",
        "# available Policy models\n",
        "from convlab.policy.rule.multiwoz import RulePolicy\n",
        "from convlab.policy.ppo.multiwoz import PPOPolicy\n",
        "from convlab.policy.pg.multiwoz import PGPolicy\n",
        "from convlab.policy.mle.multiwoz import MLEPolicy\n",
        "from convlab.policy.gdpl.multiwoz import GDPLPolicy\n",
        "from convlab.policy.vhus.multiwoz import UserPolicyVHUS\n",
        "from convlab.policy.mdrg.multiwoz import MDRGWordPolicy\n",
        "from convlab.policy.hdsa.multiwoz import HDSA\n",
        "from convlab.policy.larl.multiwoz import LaRL\n",
        "# available NLG models\n",
        "from convlab.nlg.template.multiwoz import TemplateNLG\n",
        "from convlab.nlg.sclstm.multiwoz import SCLSTM\n",
        "# available E2E models\n",
        "from convlab.e2e.sequicity.multiwoz import Sequicity\n",
        "from convlab.e2e.damd.multiwoz import Damd"
      ]
    },
    {
      "cell_type": "markdown",
      "metadata": {
        "colab_type": "text",
        "id": "6TS2_Tp1Nzvq"
      },
      "outputs": [],
      "source": [
        "sys_agent.response(\"Thank you !\")"
      ]
    },
    {
      "cell_type": "code",
      "execution_count": null,
      "metadata": {
        "colab": {},
        "colab_type": "code",
        "id": "DZMk9wAlONrz"
      },
      "outputs": [],
      "source": [
        "# NLU+RuleDST:\n",
        "sys_nlu = BERTNLU()\n",
        "# sys_nlu = MILU()\n",
        "# sys_nlu = SVMNLU()\n",
        "sys_dst = RuleDST()\n",
        "\n",
        "# or Word-DST:\n",
        "# sys_nlu = None\n",
        "# sys_dst = SUMBT()\n",
        "# sys_dst = TRADE()"
      ]
    },
    {
      "cell_type": "markdown",
      "metadata": {
        "colab_type": "text",
        "id": "gUUYsDMJPJRl"
      },
      "source": [
        "Policy+NLG or Word-Policy:"
      ]
    },
    {
      "cell_type": "code",
      "execution_count": null,
      "metadata": {
        "colab": {},
        "colab_type": "code",
        "id": "PTJ95x9UPHt4"
      },
      "outputs": [],
      "source": [
        "# Policy+NLG:\n",
        "sys_policy = RulePolicy()\n",
        "# sys_policy = PPOPolicy()\n",
        "# sys_policy = PGPolicy()\n",
        "# sys_policy = MLEPolicy()\n",
        "# sys_policy = GDPLPolicy()\n",
        "sys_nlg = TemplateNLG(is_user=False)\n",
        "# sys_nlg = SCLSTM(is_user=False)\n",
        "\n",
        "# or Word-Policy:\n",
        "# sys_policy = LaRL()\n",
        "# sys_policy = HDSA()\n",
        "# sys_policy = MDRGWordPolicy()\n",
        "# sys_nlg = None"
      ]
    },
    {
      "cell_type": "markdown",
      "metadata": {
        "colab_type": "text",
        "id": "s9lGIv0oPupn"
      },
      "outputs": [],
      "source": [
        "sys_agent.response(\"Try to find me a Chinese restaurant in south area .\")"
      ]
    },
    {
      "cell_type": "code",
      "execution_count": null,
      "metadata": {
        "colab": {},
        "colab_type": "code",
        "id": "IvLx7HUkPyZ5"
      },
      "outputs": [],
      "source": [
        "sys_agent = PipelineAgent(sys_nlu, sys_dst, sys_policy, sys_nlg, 'sys')"
      ]
    },
    {
      "cell_type": "markdown",
      "metadata": {
        "colab_type": "text",
        "id": "hR4A8WbZP2lc"
      },
      "source": [
        "Or Directly use an end-to-end model:"
      ]
    },
    {
      "cell_type": "code",
      "execution_count": null,
      "metadata": {
        "colab": {},
        "colab_type": "code",
        "id": "8VdUmcxoP6ej"
      },
      "outputs": [],
      "source": [
        "# sys_agent = Sequicity()\n",
        "# sys_agent = Damd()"
      ]
    },
    {
      "cell_type": "markdown",
      "metadata": {
        "colab_type": "text",
        "id": "_v-eoBtnP9J9"
      },
      "outputs": [],
      "source": [
        "sys_agent.response(\"Which kind of food it provides ?\")"
      ]
    },
    {
      "cell_type": "code",
      "execution_count": null,
      "metadata": {
        "colab": {},
        "colab_type": "code",
        "id": "UkHpjvR5QezN"
      },
      "outputs": [],
      "source": [
        "user_nlu = BERTNLU()\n",
        "# user_nlu = MILU()\n",
        "# user_nlu = SVMNLU()\n",
        "user_dst = None\n",
        "user_policy = RulePolicy(character='usr')\n",
        "# user_policy = UserPolicyVHUS(load_from_zip=True)\n",
        "user_nlg = TemplateNLG(is_user=True)\n",
        "# user_nlg = SCLSTM(is_user=True)\n",
        "user_agent = PipelineAgent(user_nlu, user_dst, user_policy, user_nlg, name='user')"
      ]
    },
    {
      "cell_type": "markdown",
      "metadata": {
        "colab_type": "text",
        "id": "VJTBxEDhSAqc"
      },
      "source": [
        "## Use analysis tool to diagnose the system\n",
        "We provide an analysis tool presents rich statistics and summarizes common mistakes from simulated dialogues, which facilitates error analysis and\n",
        "system improvement. The analyzer will generate an HTML report which contains\n",
        "rich statistics of simulated dialogues. For more information, please refer to `convlab/util/analysis_tool`."
      ]
    },
    {
      "cell_type": "code",
      "execution_count": null,
      "metadata": {
        "colab": {},
        "colab_type": "code",
        "id": "Hu2q3lQiSMDy"
      },
      "outputs": [],
      "source": [
        "from convlab.util.analysis_tool.analyzer import Analyzer\n",
        "\n",
        "# if sys_nlu!=None, set use_nlu=True to collect more information\n",
        "analyzer = Analyzer(user_agent=user_agent, dataset='multiwoz')\n",
        "\n",
        "set_seed(20200131)\n",
        "analyzer.comprehensive_analyze(sys_agent=sys_agent, model_name='sys_agent', total_dialog=100)"
      ]
    },
    {
      "cell_type": "markdown",
      "metadata": {
        "colab_type": "text",
        "id": "AB-mDm0plQWd"
      },
      "outputs": [],
      "source": [
        "sys_agent.response(\"Book a table for 5 , this Sunday .\")"
      ]
    }
  ],
  "metadata": {
    "colab": {
      "collapsed_sections": [],
      "name": "Tutorial",
      "provenance": [],
      "toc_visible": true
    },
    {
      "cell_type": "code",
      "execution_count": null,
      "metadata": {
        "colab": {},
        "colab_type": "code",
        "id": "GKe_DNJUlWzh"
      },
      "outputs": [],
      "source": [
        "set_seed(20200131)\n",
        "analyzer.compare_models(agent_list=[sys_agent1, sys_agent2], model_name=['sys_agent1', 'sys_agent2'], total_dialog=100)"
      ]
    }
  ],
  "metadata": {
    "colab": {
      "collapsed_sections": [],
      "name": "Tutorial",
      "provenance": [],
      "toc_visible": true
    },
    "kernelspec": {
      "display_name": "Python 3.8.12 ('py38')",
      "language": "python",
      "name": "python3"
    },
    "language_info": {
      "name": "python",
      "version": "3.8.12"
    },
    "vscode": {
      "interpreter": {
        "hash": "0f9333403d680bc010aa5ce5a2f27ba398c9e47e92ba3724506306aa234cd07d"
      }
    }
  },
  "nbformat": 4,
  "nbformat_minor": 0
}
